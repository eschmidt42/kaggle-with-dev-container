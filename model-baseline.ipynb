{
 "cells": [
  {
   "cell_type": "markdown",
   "id": "2856a985",
   "metadata": {
    "papermill": {
     "duration": 0.013457,
     "end_time": "2024-07-05T07:08:01.996303",
     "exception": false,
     "start_time": "2024-07-05T07:08:01.982846",
     "status": "completed"
    },
    "tags": []
   },
   "source": [
    "# 0. Setup"
   ]
  },
  {
   "cell_type": "code",
   "execution_count": null,
   "id": "cb234df8",
   "metadata": {
    "execution": {
     "iopub.execute_input": "2024-07-05T07:08:02.029513Z",
     "iopub.status.busy": "2024-07-05T07:08:02.026861Z",
     "iopub.status.idle": "2024-07-05T07:08:04.115645Z",
     "shell.execute_reply": "2024-07-05T07:08:04.114570Z"
    },
    "papermill": {
     "duration": 2.106421,
     "end_time": "2024-07-05T07:08:04.118324",
     "exception": false,
     "start_time": "2024-07-05T07:08:02.011903",
     "status": "completed"
    },
    "tags": []
   },
   "outputs": [],
   "source": [
    "import polars as pl\n",
    "from rich import print as rprint\n",
    "\n",
    "import logging\n",
    "import logging.config\n",
    "import re\n",
    "from collections import Counter\n",
    "import json\n",
    "import h5py\n",
    "import numpy as np\n",
    "import polars as pl\n",
    "from PIL import Image\n",
    "from pydantic import BaseModel, field_validator\n",
    "from pathlib import Path\n",
    "import io\n",
    "import typing as T\n",
    "from sklearn import model_selection, dummy as sk_dummy\n",
    "from sklearn.metrics import roc_auc_score"
   ]
  },
  {
   "cell_type": "code",
   "execution_count": null,
   "id": "65643a08",
   "metadata": {
    "_cell_guid": "b1076dfc-b9ad-4769-8c92-a6c4dae69d19",
    "_uuid": "8f2839f25d086af736a60e9eeb907d3b93b6e0e5",
    "execution": {
     "iopub.execute_input": "2024-07-05T07:08:04.140564Z",
     "iopub.status.busy": "2024-07-05T07:08:04.140070Z",
     "iopub.status.idle": "2024-07-05T07:08:04.315570Z",
     "shell.execute_reply": "2024-07-05T07:08:04.314490Z"
    },
    "papermill": {
     "duration": 0.189618,
     "end_time": "2024-07-05T07:08:04.318375",
     "exception": false,
     "start_time": "2024-07-05T07:08:04.128757",
     "status": "completed"
    },
    "tags": []
   },
   "outputs": [],
   "source": [
    "logger_config_json = \"\"\"{\n",
    "    \"version\": 1,\n",
    "    \"disable_existing_loggers\": false,\n",
    "    \"formatters\": {\n",
    "      \"rich\": {\n",
    "        \"format\": \"%(message)s\",\n",
    "        \"datefmt\": \"%Y-%m-%dT%H:%M:%S%z\"\n",
    "      }\n",
    "    },\n",
    "    \"filters\": {\n",
    "      \"third_party\": {\n",
    "        \"()\": \"__main__.DependencyFilter\",\n",
    "        \"param\": 20\n",
    "      }\n",
    "    },\n",
    "    \"handlers\": {\n",
    "      \"stdout\": {\n",
    "        \"class\": \"rich.logging.RichHandler\",\n",
    "        \"formatter\": \"rich\",\n",
    "        \"level\": \"DEBUG\",\n",
    "        \"filters\": [\"third_party\"]\n",
    "      }\n",
    "    },\n",
    "    \"loggers\": {\n",
    "      \"root\": {\n",
    "        \"level\": \"DEBUG\",\n",
    "        \"handlers\": [\n",
    "          \"stdout\"\n",
    "        ]\n",
    "      }\n",
    "    }\n",
    "  }\n",
    "\n",
    "\"\"\"\n",
    "\n",
    "class DependencyFilter(logging.Filter):\n",
    "    \"\"\"Filter to only keep third party logrecords above `param`.\n",
    "\n",
    "    logrecord: https://docs.python.org/3/library/logging.html#logrecord-attributes\n",
    "    logging levels: https://docs.python.org/3/library/logging.html\n",
    "    custom level handling: https://docs.python.org/3/howto/logging-cookbook.html#custom-handling-of-levels\n",
    "    custom filters: https://docs.python.org/3/howto/logging-cookbook.html#configuring-filters-with-dictconfig\n",
    "    \"\"\"\n",
    "\n",
    "    def __init__(self, param: int):\n",
    "        self.param = param\n",
    "\n",
    "    def filter(self, record: logging.LogRecord) -> bool:\n",
    "        is_1st_party = record.name.startswith(\"tools\") or record.name == \"__main__\"\n",
    "        is_3rd_party = not is_1st_party\n",
    "        if is_3rd_party:\n",
    "            allow = record.levelno >= self.param\n",
    "            return allow\n",
    "        else:\n",
    "            return True\n",
    "\n",
    "\n",
    "def setup_logging():\n",
    "    \n",
    "    config = json.loads(logger_config_json)\n",
    "    logging.config.dictConfig(config)\n",
    "    \n",
    "class Settings(BaseModel):\n",
    "    path_input:Path = Path(\"/kaggle/input\")\n",
    "    path_work:Path = Path(\"/kaggle/working\")\n",
    "    y_col:str = \"target\"\n",
    "    id_col:str = \"isic_id\"\n",
    "    id_col_patient: str = \"patient_id\"\n",
    "        \n",
    "    @field_validator(\"path_input\",\"path_work\", mode=\"after\")\n",
    "    def is_valid_path(cls, v: Path) -> Path:\n",
    "        if not v.exists():\n",
    "            msg = f\"{v} does not seem to exist.\"\n",
    "            raise FileNotFoundError(msg)\n",
    "        return v\n",
    "    \n",
    "    @property\n",
    "    def path_input_isic2024(self) -> Path:\n",
    "        return self.path_input / \"isic-2024-challenge\""
   ]
  },
  {
   "cell_type": "code",
   "execution_count": null,
   "id": "8c0e7ec5",
   "metadata": {
    "execution": {
     "iopub.execute_input": "2024-07-05T07:08:04.340153Z",
     "iopub.status.busy": "2024-07-05T07:08:04.339735Z",
     "iopub.status.idle": "2024-07-05T07:08:04.407258Z",
     "shell.execute_reply": "2024-07-05T07:08:04.406132Z"
    },
    "papermill": {
     "duration": 0.081561,
     "end_time": "2024-07-05T07:08:04.409946",
     "exception": false,
     "start_time": "2024-07-05T07:08:04.328385",
     "status": "completed"
    },
    "tags": []
   },
   "outputs": [],
   "source": [
    "setup_logging()\n",
    "logger = logging.getLogger(__name__)\n",
    "settings = Settings()"
   ]
  },
  {
   "cell_type": "code",
   "execution_count": null,
   "id": "6b8f4f97",
   "metadata": {
    "execution": {
     "iopub.execute_input": "2024-07-05T07:08:04.432696Z",
     "iopub.status.busy": "2024-07-05T07:08:04.432323Z",
     "iopub.status.idle": "2024-07-05T07:08:05.491841Z",
     "shell.execute_reply": "2024-07-05T07:08:05.490505Z"
    },
    "papermill": {
     "duration": 1.073853,
     "end_time": "2024-07-05T07:08:05.494599",
     "exception": false,
     "start_time": "2024-07-05T07:08:04.420746",
     "status": "completed"
    },
    "tags": []
   },
   "outputs": [],
   "source": [
    "!ls -lh {settings.path_input_isic2024}"
   ]
  },
  {
   "cell_type": "markdown",
   "id": "4124e6db",
   "metadata": {
    "papermill": {
     "duration": 0.009799,
     "end_time": "2024-07-05T07:08:05.514907",
     "exception": false,
     "start_time": "2024-07-05T07:08:05.505108",
     "status": "completed"
    },
    "tags": []
   },
   "source": [
    "# 1. Prepare data"
   ]
  },
  {
   "cell_type": "code",
   "execution_count": null,
   "id": "aa597c1a",
   "metadata": {
    "execution": {
     "iopub.execute_input": "2024-07-05T07:08:05.537164Z",
     "iopub.status.busy": "2024-07-05T07:08:05.536704Z",
     "iopub.status.idle": "2024-07-05T07:08:05.546018Z",
     "shell.execute_reply": "2024-07-05T07:08:05.544882Z"
    },
    "papermill": {
     "duration": 0.023381,
     "end_time": "2024-07-05T07:08:05.548264",
     "exception": false,
     "start_time": "2024-07-05T07:08:05.524883",
     "status": "completed"
    },
    "tags": []
   },
   "outputs": [],
   "source": [
    "path_data = settings.path_input_isic2024\n",
    "path_data, path_data.exists()"
   ]
  },
  {
   "cell_type": "code",
   "execution_count": null,
   "id": "4879cf24",
   "metadata": {
    "execution": {
     "iopub.execute_input": "2024-07-05T07:08:05.570795Z",
     "iopub.status.busy": "2024-07-05T07:08:05.569707Z",
     "iopub.status.idle": "2024-07-05T07:08:05.575791Z",
     "shell.execute_reply": "2024-07-05T07:08:05.574795Z"
    },
    "papermill": {
     "duration": 0.019738,
     "end_time": "2024-07-05T07:08:05.578038",
     "exception": false,
     "start_time": "2024-07-05T07:08:05.558300",
     "status": "completed"
    },
    "tags": []
   },
   "outputs": [],
   "source": [
    "path_train_img = path_data / \"train-image.hdf5\"\n",
    "path_test_img = path_data / \"test-image.hdf5\"\n",
    "\n",
    "path_train_meta = path_data / \"train-metadata.csv\"\n",
    "path_test_meta = path_data / \"test-metadata.csv\""
   ]
  },
  {
   "cell_type": "code",
   "execution_count": null,
   "id": "5ed161c1",
   "metadata": {
    "execution": {
     "iopub.execute_input": "2024-07-05T07:08:05.601070Z",
     "iopub.status.busy": "2024-07-05T07:08:05.599864Z",
     "iopub.status.idle": "2024-07-05T07:08:05.605435Z",
     "shell.execute_reply": "2024-07-05T07:08:05.604343Z"
    },
    "papermill": {
     "duration": 0.019029,
     "end_time": "2024-07-05T07:08:05.607674",
     "exception": false,
     "start_time": "2024-07-05T07:08:05.588645",
     "status": "completed"
    },
    "tags": []
   },
   "outputs": [],
   "source": [
    "assert path_train_img.exists()\n",
    "assert path_test_img.exists()\n",
    "assert path_train_meta.exists()\n",
    "assert path_test_meta.exists()"
   ]
  },
  {
   "cell_type": "code",
   "execution_count": null,
   "id": "9e88dc2a",
   "metadata": {
    "execution": {
     "iopub.execute_input": "2024-07-05T07:08:05.630226Z",
     "iopub.status.busy": "2024-07-05T07:08:05.629794Z",
     "iopub.status.idle": "2024-07-05T07:09:12.843570Z",
     "shell.execute_reply": "2024-07-05T07:09:12.842305Z"
    },
    "papermill": {
     "duration": 67.23887,
     "end_time": "2024-07-05T07:09:12.857114",
     "exception": false,
     "start_time": "2024-07-05T07:08:05.618244",
     "status": "completed"
    },
    "tags": []
   },
   "outputs": [],
   "source": [
    "train_img = h5py.File(path_train_img, \"r\")\n",
    "logger.info(f\"train keys {len(train_img.keys())=:_}, 5 example keys{[k for i, k in enumerate(train_img.keys()) if i < 5]}\")"
   ]
  },
  {
   "cell_type": "code",
   "execution_count": null,
   "id": "be8e9285",
   "metadata": {
    "execution": {
     "iopub.execute_input": "2024-07-05T07:09:12.879170Z",
     "iopub.status.busy": "2024-07-05T07:09:12.878762Z",
     "iopub.status.idle": "2024-07-05T07:09:12.893619Z",
     "shell.execute_reply": "2024-07-05T07:09:12.892613Z"
    },
    "papermill": {
     "duration": 0.028761,
     "end_time": "2024-07-05T07:09:12.895995",
     "exception": false,
     "start_time": "2024-07-05T07:09:12.867234",
     "status": "completed"
    },
    "tags": []
   },
   "outputs": [],
   "source": [
    "test_img = h5py.File(path_test_img, \"r\")\n",
    "logger.info(f\"test keys {len(test_img.keys())=:_}, 5 example keys{[k for i, k in enumerate(test_img.keys()) if i < 5]}\")"
   ]
  },
  {
   "cell_type": "code",
   "execution_count": null,
   "id": "5f69524c",
   "metadata": {
    "execution": {
     "iopub.execute_input": "2024-07-05T07:09:12.919416Z",
     "iopub.status.busy": "2024-07-05T07:09:12.918596Z",
     "iopub.status.idle": "2024-07-05T07:09:12.924794Z",
     "shell.execute_reply": "2024-07-05T07:09:12.923639Z"
    },
    "papermill": {
     "duration": 0.021028,
     "end_time": "2024-07-05T07:09:12.927595",
     "exception": false,
     "start_time": "2024-07-05T07:09:12.906567",
     "status": "completed"
    },
    "tags": []
   },
   "outputs": [],
   "source": [
    "def hdf_entry_to_image(hdf: h5py.Dataset, key: str) -> Image.Image:\n",
    "    bytes_ = io.BytesIO(hdf[key][()])\n",
    "    return Image.open(bytes_)"
   ]
  },
  {
   "cell_type": "code",
   "execution_count": null,
   "id": "9decb797",
   "metadata": {
    "execution": {
     "iopub.execute_input": "2024-07-05T07:09:12.950556Z",
     "iopub.status.busy": "2024-07-05T07:09:12.949828Z",
     "iopub.status.idle": "2024-07-05T07:09:12.954472Z",
     "shell.execute_reply": "2024-07-05T07:09:12.953453Z"
    },
    "papermill": {
     "duration": 0.018522,
     "end_time": "2024-07-05T07:09:12.956820",
     "exception": false,
     "start_time": "2024-07-05T07:09:12.938298",
     "status": "completed"
    },
    "tags": []
   },
   "outputs": [],
   "source": [
    "# if \"ISIC_0024200\" in train_img:\n",
    "#     image = hdf_entry_to_image(train_img, \"ISIC_0024200\")\n",
    "#     display(image)"
   ]
  },
  {
   "cell_type": "code",
   "execution_count": null,
   "id": "984e85f7",
   "metadata": {
    "execution": {
     "iopub.execute_input": "2024-07-05T07:09:12.979334Z",
     "iopub.status.busy": "2024-07-05T07:09:12.978938Z",
     "iopub.status.idle": "2024-07-05T07:09:12.983900Z",
     "shell.execute_reply": "2024-07-05T07:09:12.982730Z"
    },
    "papermill": {
     "duration": 0.019322,
     "end_time": "2024-07-05T07:09:12.986645",
     "exception": false,
     "start_time": "2024-07-05T07:09:12.967323",
     "status": "completed"
    },
    "tags": []
   },
   "outputs": [],
   "source": [
    "# if \"ISIC_0015657\" in test_img:\n",
    "#     image = hdf_entry_to_image(test_img, \"ISIC_0015657\")\n",
    "#     display(image)"
   ]
  },
  {
   "cell_type": "code",
   "execution_count": null,
   "id": "367c87e7",
   "metadata": {
    "execution": {
     "iopub.execute_input": "2024-07-05T07:09:13.009210Z",
     "iopub.status.busy": "2024-07-05T07:09:13.008800Z",
     "iopub.status.idle": "2024-07-05T07:09:14.270446Z",
     "shell.execute_reply": "2024-07-05T07:09:14.269339Z"
    },
    "papermill": {
     "duration": 1.275663,
     "end_time": "2024-07-05T07:09:14.272841",
     "exception": false,
     "start_time": "2024-07-05T07:09:12.997178",
     "status": "completed"
    },
    "tags": []
   },
   "outputs": [],
   "source": [
    "df_train_meta = pl.read_csv(path_train_meta)\n",
    "df_train_meta.head()"
   ]
  },
  {
   "cell_type": "code",
   "execution_count": null,
   "id": "f15da33c",
   "metadata": {
    "execution": {
     "iopub.execute_input": "2024-07-05T07:09:14.296138Z",
     "iopub.status.busy": "2024-07-05T07:09:14.295728Z",
     "iopub.status.idle": "2024-07-05T07:09:14.308799Z",
     "shell.execute_reply": "2024-07-05T07:09:14.307809Z"
    },
    "papermill": {
     "duration": 0.027575,
     "end_time": "2024-07-05T07:09:14.311306",
     "exception": false,
     "start_time": "2024-07-05T07:09:14.283731",
     "status": "completed"
    },
    "tags": []
   },
   "outputs": [],
   "source": [
    "df_test_meta = pl.read_csv(path_test_meta)\n",
    "df_test_meta.head()"
   ]
  },
  {
   "cell_type": "markdown",
   "id": "fe6d02cc",
   "metadata": {
    "papermill": {
     "duration": 0.010754,
     "end_time": "2024-07-05T07:09:14.333600",
     "exception": false,
     "start_time": "2024-07-05T07:09:14.322846",
     "status": "completed"
    },
    "tags": []
   },
   "source": [
    "light data wrangling"
   ]
  },
  {
   "cell_type": "code",
   "execution_count": null,
   "id": "049bb3ff",
   "metadata": {
    "execution": {
     "iopub.execute_input": "2024-07-05T07:09:14.357427Z",
     "iopub.status.busy": "2024-07-05T07:09:14.356637Z",
     "iopub.status.idle": "2024-07-05T07:09:14.366022Z",
     "shell.execute_reply": "2024-07-05T07:09:14.365009Z"
    },
    "papermill": {
     "duration": 0.023572,
     "end_time": "2024-07-05T07:09:14.368136",
     "exception": false,
     "start_time": "2024-07-05T07:09:14.344564",
     "status": "completed"
    },
    "tags": []
   },
   "outputs": [],
   "source": [
    "def sex_str2bool(val: str) -> bool:\n",
    "    match val:\n",
    "        case \"male\":\n",
    "            return True\n",
    "        case \"female\":\n",
    "            return False\n",
    "        case \"\":\n",
    "            return None\n",
    "        case _:\n",
    "            raise ValueError(f\"{val=} was expected to be 'male' or 'female' only.\")\n",
    "\n",
    "\n",
    "def wrangle(df: pl.DataFrame, y_col: str) -> pl.DataFrame:\n",
    "\n",
    "    expressions = [\n",
    "        pl.col(\"anatom_site_general\").replace(\"\", \"unknown\"),\n",
    "        pl.col(\"sex\").map_elements(sex_str2bool, return_dtype=pl.Boolean),\n",
    "        pl.col(\"tbp_lv_symm_2axis_angle\").cast(pl.Int32),\n",
    "    ]\n",
    "\n",
    "    age_approx_is_str = df[\"age_approx\"].dtype == pl.String\n",
    "    if age_approx_is_str:\n",
    "        expressions.append(pl.col(\"age_approx\").replace(\"NA\", None).cast(pl.Float32))\n",
    "    else:\n",
    "        # because there are no missing values in the test set it's already float64\n",
    "        expressions.append(pl.col(\"age_approx\").cast(pl.Float32))\n",
    "\n",
    "\n",
    "    is_train = y_col in df.columns\n",
    "    if is_train:\n",
    "        expressions.append(pl.col(y_col).cast(pl.Boolean))\n",
    "\n",
    "    df = df.with_columns(*expressions)\n",
    "\n",
    "    df = df.drop([\"image_type\"])  # all instances same value\n",
    "\n",
    "    return df"
   ]
  },
  {
   "cell_type": "code",
   "execution_count": null,
   "id": "e8216750",
   "metadata": {
    "execution": {
     "iopub.execute_input": "2024-07-05T07:09:14.391845Z",
     "iopub.status.busy": "2024-07-05T07:09:14.390914Z",
     "iopub.status.idle": "2024-07-05T07:09:14.468845Z",
     "shell.execute_reply": "2024-07-05T07:09:14.467804Z"
    },
    "papermill": {
     "duration": 0.092131,
     "end_time": "2024-07-05T07:09:14.471140",
     "exception": false,
     "start_time": "2024-07-05T07:09:14.379009",
     "status": "completed"
    },
    "tags": []
   },
   "outputs": [],
   "source": [
    "wrangle(df_test_meta.head(), settings.y_col)"
   ]
  },
  {
   "cell_type": "code",
   "execution_count": null,
   "id": "201105ff",
   "metadata": {
    "execution": {
     "iopub.execute_input": "2024-07-05T07:09:14.496158Z",
     "iopub.status.busy": "2024-07-05T07:09:14.495217Z",
     "iopub.status.idle": "2024-07-05T07:09:14.511122Z",
     "shell.execute_reply": "2024-07-05T07:09:14.510053Z"
    },
    "papermill": {
     "duration": 0.03102,
     "end_time": "2024-07-05T07:09:14.513565",
     "exception": false,
     "start_time": "2024-07-05T07:09:14.482545",
     "status": "completed"
    },
    "tags": []
   },
   "outputs": [],
   "source": [
    "wrangle(df_train_meta.head(), settings.y_col)"
   ]
  },
  {
   "cell_type": "code",
   "execution_count": null,
   "id": "39a87dfd",
   "metadata": {
    "execution": {
     "iopub.execute_input": "2024-07-05T07:09:14.538591Z",
     "iopub.status.busy": "2024-07-05T07:09:14.537808Z",
     "iopub.status.idle": "2024-07-05T07:09:14.661087Z",
     "shell.execute_reply": "2024-07-05T07:09:14.659695Z"
    },
    "papermill": {
     "duration": 0.138662,
     "end_time": "2024-07-05T07:09:14.663713",
     "exception": false,
     "start_time": "2024-07-05T07:09:14.525051",
     "status": "completed"
    },
    "tags": []
   },
   "outputs": [],
   "source": [
    "df_train_meta = wrangle(df_train_meta, settings.y_col)\n",
    "df_test_meta = wrangle(df_test_meta, settings.y_col)"
   ]
  },
  {
   "cell_type": "code",
   "execution_count": null,
   "id": "fd5b157f",
   "metadata": {
    "execution": {
     "iopub.execute_input": "2024-07-05T07:09:14.688695Z",
     "iopub.status.busy": "2024-07-05T07:09:14.687806Z",
     "iopub.status.idle": "2024-07-05T07:09:14.694857Z",
     "shell.execute_reply": "2024-07-05T07:09:14.693760Z"
    },
    "papermill": {
     "duration": 0.0218,
     "end_time": "2024-07-05T07:09:14.697012",
     "exception": false,
     "start_time": "2024-07-05T07:09:14.675212",
     "status": "completed"
    },
    "tags": []
   },
   "outputs": [],
   "source": [
    "path_submission = path_data / \"sample_submission.csv\"\n",
    "path_submission.exists()"
   ]
  },
  {
   "cell_type": "code",
   "execution_count": null,
   "id": "277a6320",
   "metadata": {
    "execution": {
     "iopub.execute_input": "2024-07-05T07:09:14.721779Z",
     "iopub.status.busy": "2024-07-05T07:09:14.721409Z",
     "iopub.status.idle": "2024-07-05T07:09:14.730588Z",
     "shell.execute_reply": "2024-07-05T07:09:14.729554Z"
    },
    "papermill": {
     "duration": 0.02421,
     "end_time": "2024-07-05T07:09:14.732902",
     "exception": false,
     "start_time": "2024-07-05T07:09:14.708692",
     "status": "completed"
    },
    "tags": []
   },
   "outputs": [],
   "source": [
    "df_sample_submission = pl.read_csv(path_submission)\n",
    "df_sample_submission.head()"
   ]
  },
  {
   "cell_type": "markdown",
   "id": "03b1722e",
   "metadata": {
    "papermill": {
     "duration": 0.011646,
     "end_time": "2024-07-05T07:09:14.756235",
     "exception": false,
     "start_time": "2024-07-05T07:09:14.744589",
     "status": "completed"
    },
    "tags": []
   },
   "source": [
    "# 2. Dummy model"
   ]
  },
  {
   "cell_type": "code",
   "execution_count": null,
   "id": "bcbe2803",
   "metadata": {
    "execution": {
     "iopub.execute_input": "2024-07-05T07:09:14.840095Z",
     "iopub.status.busy": "2024-07-05T07:09:14.839523Z",
     "iopub.status.idle": "2024-07-05T07:09:14.853649Z",
     "shell.execute_reply": "2024-07-05T07:09:14.852437Z"
    },
    "papermill": {
     "duration": 0.029917,
     "end_time": "2024-07-05T07:09:14.856531",
     "exception": false,
     "start_time": "2024-07-05T07:09:14.826614",
     "status": "completed"
    },
    "tags": []
   },
   "outputs": [],
   "source": [
    "x_cols = [c for c in df_train_meta.columns if c not in [settings.y_col, settings.id_col, settings.id_col_patient] and c in df_test_meta.columns]\n",
    "logger.info(f\"feature columns ({len(x_cols)}) {x_cols=}\")"
   ]
  },
  {
   "cell_type": "code",
   "execution_count": null,
   "id": "680ed061",
   "metadata": {
    "execution": {
     "iopub.execute_input": "2024-07-05T07:09:14.883740Z",
     "iopub.status.busy": "2024-07-05T07:09:14.883323Z",
     "iopub.status.idle": "2024-07-05T07:09:14.889842Z",
     "shell.execute_reply": "2024-07-05T07:09:14.888727Z"
    },
    "papermill": {
     "duration": 0.022545,
     "end_time": "2024-07-05T07:09:14.892100",
     "exception": false,
     "start_time": "2024-07-05T07:09:14.869555",
     "status": "completed"
    },
    "tags": []
   },
   "outputs": [],
   "source": [
    "def get_Xy(\n",
    "    df: pl.DataFrame, x_cols: T.Iterable[str], y_col: str\n",
    ") -> T.Tuple[pl.DataFrame, T.Optional[pl.Series]]:\n",
    "    X = df[x_cols]\n",
    "    is_train = y_col in df.columns\n",
    "    if is_train:\n",
    "        y = df[y_col]\n",
    "    else:\n",
    "        y = None\n",
    "    return X, y"
   ]
  },
  {
   "cell_type": "code",
   "execution_count": null,
   "id": "e432c2ac",
   "metadata": {
    "execution": {
     "iopub.execute_input": "2024-07-05T07:09:14.918220Z",
     "iopub.status.busy": "2024-07-05T07:09:14.917831Z",
     "iopub.status.idle": "2024-07-05T07:09:14.925302Z",
     "shell.execute_reply": "2024-07-05T07:09:14.924226Z"
    },
    "papermill": {
     "duration": 0.023381,
     "end_time": "2024-07-05T07:09:14.927638",
     "exception": false,
     "start_time": "2024-07-05T07:09:14.904257",
     "status": "completed"
    },
    "tags": []
   },
   "outputs": [],
   "source": [
    "X, y = get_Xy(df_train_meta, x_cols, settings.y_col)"
   ]
  },
  {
   "cell_type": "code",
   "execution_count": null,
   "id": "77205862",
   "metadata": {
    "execution": {
     "iopub.execute_input": "2024-07-05T07:09:14.955080Z",
     "iopub.status.busy": "2024-07-05T07:09:14.954340Z",
     "iopub.status.idle": "2024-07-05T07:09:14.959404Z",
     "shell.execute_reply": "2024-07-05T07:09:14.958273Z"
    },
    "papermill": {
     "duration": 0.021476,
     "end_time": "2024-07-05T07:09:14.961626",
     "exception": false,
     "start_time": "2024-07-05T07:09:14.940150",
     "status": "completed"
    },
    "tags": []
   },
   "outputs": [],
   "source": [
    "n_splits = 5\n",
    "splitter = model_selection.StratifiedGroupKFold(n_splits=n_splits)"
   ]
  },
  {
   "cell_type": "code",
   "execution_count": null,
   "id": "a1c3192a",
   "metadata": {
    "execution": {
     "iopub.execute_input": "2024-07-05T07:09:14.988963Z",
     "iopub.status.busy": "2024-07-05T07:09:14.987865Z",
     "iopub.status.idle": "2024-07-05T07:09:14.993425Z",
     "shell.execute_reply": "2024-07-05T07:09:14.992243Z"
    },
    "papermill": {
     "duration": 0.021866,
     "end_time": "2024-07-05T07:09:14.995735",
     "exception": false,
     "start_time": "2024-07-05T07:09:14.973869",
     "status": "completed"
    },
    "tags": []
   },
   "outputs": [],
   "source": [
    "splits = splitter.split(X,y,groups=df_train_meta[settings.id_col_patient])"
   ]
  },
  {
   "cell_type": "code",
   "execution_count": null,
   "id": "776921b7",
   "metadata": {
    "execution": {
     "iopub.execute_input": "2024-07-05T07:09:15.022035Z",
     "iopub.status.busy": "2024-07-05T07:09:15.021547Z",
     "iopub.status.idle": "2024-07-05T07:09:16.208933Z",
     "shell.execute_reply": "2024-07-05T07:09:16.207872Z"
    },
    "papermill": {
     "duration": 1.203784,
     "end_time": "2024-07-05T07:09:16.211854",
     "exception": false,
     "start_time": "2024-07-05T07:09:15.008070",
     "status": "completed"
    },
    "tags": []
   },
   "outputs": [],
   "source": [
    "ix0, ix1 = next(iter(splits))\n",
    "\n",
    "X0 = X[ix0,:]\n",
    "y0 = y[ix0]\n",
    "X1 = X[ix1,:]\n",
    "y1 = y[ix1]"
   ]
  },
  {
   "cell_type": "code",
   "execution_count": null,
   "id": "ae5989d2",
   "metadata": {
    "execution": {
     "iopub.execute_input": "2024-07-05T07:09:16.238512Z",
     "iopub.status.busy": "2024-07-05T07:09:16.238143Z",
     "iopub.status.idle": "2024-07-05T07:09:16.243210Z",
     "shell.execute_reply": "2024-07-05T07:09:16.241998Z"
    },
    "papermill": {
     "duration": 0.021533,
     "end_time": "2024-07-05T07:09:16.245766",
     "exception": false,
     "start_time": "2024-07-05T07:09:16.224233",
     "status": "completed"
    },
    "tags": []
   },
   "outputs": [],
   "source": [
    "dummy_model = sk_dummy.DummyClassifier(strategy=\"most_frequent\")"
   ]
  },
  {
   "cell_type": "code",
   "execution_count": null,
   "id": "c522aae0",
   "metadata": {
    "execution": {
     "iopub.execute_input": "2024-07-05T07:09:16.272738Z",
     "iopub.status.busy": "2024-07-05T07:09:16.272354Z",
     "iopub.status.idle": "2024-07-05T07:09:16.300043Z",
     "shell.execute_reply": "2024-07-05T07:09:16.299023Z"
    },
    "papermill": {
     "duration": 0.044228,
     "end_time": "2024-07-05T07:09:16.302458",
     "exception": false,
     "start_time": "2024-07-05T07:09:16.258230",
     "status": "completed"
    },
    "tags": []
   },
   "outputs": [],
   "source": [
    "dummy_model.fit(X0, y0)"
   ]
  },
  {
   "cell_type": "code",
   "execution_count": null,
   "id": "44451d3b",
   "metadata": {
    "execution": {
     "iopub.execute_input": "2024-07-05T07:09:16.329430Z",
     "iopub.status.busy": "2024-07-05T07:09:16.328382Z",
     "iopub.status.idle": "2024-07-05T07:09:16.341378Z",
     "shell.execute_reply": "2024-07-05T07:09:16.340209Z"
    },
    "papermill": {
     "duration": 0.028974,
     "end_time": "2024-07-05T07:09:16.343821",
     "exception": false,
     "start_time": "2024-07-05T07:09:16.314847",
     "status": "completed"
    },
    "tags": []
   },
   "outputs": [],
   "source": [
    "y_pred1 = dummy_model.predict_proba(X1)[:,1]\n",
    "logger.info(f\"Inference for validation set ({len(y_pred1):_} samples), first 21 entries: {y_pred1[:21]}\")"
   ]
  },
  {
   "cell_type": "code",
   "execution_count": null,
   "id": "67912d2f",
   "metadata": {
    "execution": {
     "iopub.execute_input": "2024-07-05T07:09:16.370956Z",
     "iopub.status.busy": "2024-07-05T07:09:16.370547Z",
     "iopub.status.idle": "2024-07-05T07:09:16.377922Z",
     "shell.execute_reply": "2024-07-05T07:09:16.376719Z"
    },
    "papermill": {
     "duration": 0.023924,
     "end_time": "2024-07-05T07:09:16.380405",
     "exception": false,
     "start_time": "2024-07-05T07:09:16.356481",
     "status": "completed"
    },
    "tags": []
   },
   "outputs": [],
   "source": [
    "def calc_score(y_true: T.Iterable, y_prob: T.Iterable, min_tpr: float = 0.8) -> float:\n",
    "    v_gt = abs(np.asarray(y_true) - 1)\n",
    "    v_pred = np.array([1.0 - x for x in y_prob])\n",
    "    max_fpr = abs(1 - min_tpr)\n",
    "    partial_auc_scaled = roc_auc_score(v_gt, v_pred, max_fpr=max_fpr)\n",
    "    # change scale from [0.5, 1.0] to [0.5 * max_fpr**2, max_fpr]\n",
    "    # https://math.stackexchange.com/questions/914823/shift-numbers-into-a-different-range\n",
    "    partial_auc = 0.5 * max_fpr**2 + (max_fpr - 0.5 * max_fpr**2) / (1.0 - 0.5) * (\n",
    "        partial_auc_scaled - 0.5\n",
    "    )\n",
    "    return partial_auc"
   ]
  },
  {
   "cell_type": "code",
   "execution_count": null,
   "id": "a96d3691",
   "metadata": {
    "execution": {
     "iopub.execute_input": "2024-07-05T07:09:16.407841Z",
     "iopub.status.busy": "2024-07-05T07:09:16.406843Z",
     "iopub.status.idle": "2024-07-05T07:09:16.454984Z",
     "shell.execute_reply": "2024-07-05T07:09:16.453867Z"
    },
    "papermill": {
     "duration": 0.064438,
     "end_time": "2024-07-05T07:09:16.457463",
     "exception": false,
     "start_time": "2024-07-05T07:09:16.393025",
     "status": "completed"
    },
    "tags": []
   },
   "outputs": [],
   "source": [
    "val_score = calc_score(y1, y_pred1)\n",
    "logger.info(f\"{val_score=}\")"
   ]
  },
  {
   "cell_type": "code",
   "execution_count": null,
   "id": "390d25f5",
   "metadata": {
    "execution": {
     "iopub.execute_input": "2024-07-05T07:09:16.485278Z",
     "iopub.status.busy": "2024-07-05T07:09:16.484867Z",
     "iopub.status.idle": "2024-07-05T07:09:16.490169Z",
     "shell.execute_reply": "2024-07-05T07:09:16.489036Z"
    },
    "papermill": {
     "duration": 0.022441,
     "end_time": "2024-07-05T07:09:16.492649",
     "exception": false,
     "start_time": "2024-07-05T07:09:16.470208",
     "status": "completed"
    },
    "tags": []
   },
   "outputs": [],
   "source": [
    "X_test, _ = get_Xy(df_test_meta, x_cols, settings.y_col)"
   ]
  },
  {
   "cell_type": "code",
   "execution_count": null,
   "id": "69e3df33",
   "metadata": {
    "execution": {
     "iopub.execute_input": "2024-07-05T07:09:16.520364Z",
     "iopub.status.busy": "2024-07-05T07:09:16.519529Z",
     "iopub.status.idle": "2024-07-05T07:09:16.530342Z",
     "shell.execute_reply": "2024-07-05T07:09:16.529024Z"
    },
    "papermill": {
     "duration": 0.027475,
     "end_time": "2024-07-05T07:09:16.533028",
     "exception": false,
     "start_time": "2024-07-05T07:09:16.505553",
     "status": "completed"
    },
    "tags": []
   },
   "outputs": [],
   "source": [
    "y_pred_test = dummy_model.predict_proba(X_test)[:, 1]\n",
    "logger.info(f\"Inference for test set ({len(y_pred_test):_} samples), first 21 entries: {y_pred_test[:21]}\")"
   ]
  },
  {
   "cell_type": "markdown",
   "id": "344f2c5c",
   "metadata": {
    "papermill": {
     "duration": 0.0136,
     "end_time": "2024-07-05T07:09:16.560334",
     "exception": false,
     "start_time": "2024-07-05T07:09:16.546734",
     "status": "completed"
    },
    "tags": []
   },
   "source": [
    "# 3. Submission"
   ]
  },
  {
   "cell_type": "code",
   "execution_count": null,
   "id": "ab7724cb",
   "metadata": {
    "execution": {
     "iopub.execute_input": "2024-07-05T07:09:16.588055Z",
     "iopub.status.busy": "2024-07-05T07:09:16.587618Z",
     "iopub.status.idle": "2024-07-05T07:09:16.593988Z",
     "shell.execute_reply": "2024-07-05T07:09:16.592777Z"
    },
    "papermill": {
     "duration": 0.023208,
     "end_time": "2024-07-05T07:09:16.596547",
     "exception": false,
     "start_time": "2024-07-05T07:09:16.573339",
     "status": "completed"
    },
    "tags": []
   },
   "outputs": [],
   "source": [
    "def get_df_submission(\n",
    "    df_test: pl.DataFrame, y_pred_test: np.ndarray, id_col: str, y_col: str\n",
    ") -> pl.DataFrame:\n",
    "    df_submission = pl.from_dict({id_col: df_test[id_col], y_col: y_pred_test})\n",
    "    return df_submission"
   ]
  },
  {
   "cell_type": "code",
   "execution_count": null,
   "id": "325e08e7",
   "metadata": {
    "execution": {
     "iopub.execute_input": "2024-07-05T07:09:16.625067Z",
     "iopub.status.busy": "2024-07-05T07:09:16.623863Z",
     "iopub.status.idle": "2024-07-05T07:09:16.634544Z",
     "shell.execute_reply": "2024-07-05T07:09:16.633455Z"
    },
    "papermill": {
     "duration": 0.027442,
     "end_time": "2024-07-05T07:09:16.637014",
     "exception": false,
     "start_time": "2024-07-05T07:09:16.609572",
     "status": "completed"
    },
    "tags": []
   },
   "outputs": [],
   "source": [
    "df_submission = get_df_submission(df_test_meta, y_pred_test, settings.id_col, settings.y_col)\n",
    "df_submission.head()"
   ]
  },
  {
   "cell_type": "code",
   "execution_count": null,
   "id": "67b8ef46",
   "metadata": {
    "execution": {
     "iopub.execute_input": "2024-07-05T07:09:16.666480Z",
     "iopub.status.busy": "2024-07-05T07:09:16.666090Z",
     "iopub.status.idle": "2024-07-05T07:09:16.673296Z",
     "shell.execute_reply": "2024-07-05T07:09:16.672234Z"
    },
    "papermill": {
     "duration": 0.025163,
     "end_time": "2024-07-05T07:09:16.675865",
     "exception": false,
     "start_time": "2024-07-05T07:09:16.650702",
     "status": "completed"
    },
    "tags": []
   },
   "outputs": [],
   "source": [
    "path_submission = settings.path_work / \"submission.csv\"\n",
    "path_submission.exists()"
   ]
  },
  {
   "cell_type": "code",
   "execution_count": null,
   "id": "87355b1b",
   "metadata": {
    "execution": {
     "iopub.execute_input": "2024-07-05T07:09:16.706573Z",
     "iopub.status.busy": "2024-07-05T07:09:16.706179Z",
     "iopub.status.idle": "2024-07-05T07:09:16.716522Z",
     "shell.execute_reply": "2024-07-05T07:09:16.715030Z"
    },
    "papermill": {
     "duration": 0.02842,
     "end_time": "2024-07-05T07:09:16.719141",
     "exception": false,
     "start_time": "2024-07-05T07:09:16.690721",
     "status": "completed"
    },
    "tags": []
   },
   "outputs": [],
   "source": [
    "df_submission.write_csv(path_submission, float_precision=8, separator=\",\")"
   ]
  },
  {
   "cell_type": "code",
   "execution_count": null,
   "id": "a526ebce",
   "metadata": {
    "execution": {
     "iopub.execute_input": "2024-07-05T07:09:16.748173Z",
     "iopub.status.busy": "2024-07-05T07:09:16.747759Z",
     "iopub.status.idle": "2024-07-05T07:09:17.854766Z",
     "shell.execute_reply": "2024-07-05T07:09:17.853117Z"
    },
    "papermill": {
     "duration": 1.124427,
     "end_time": "2024-07-05T07:09:17.857505",
     "exception": false,
     "start_time": "2024-07-05T07:09:16.733078",
     "status": "completed"
    },
    "tags": []
   },
   "outputs": [],
   "source": [
    "!head {path_submission}"
   ]
  },
  {
   "cell_type": "code",
   "execution_count": null,
   "id": "0cee568c",
   "metadata": {
    "execution": {
     "iopub.execute_input": "2024-07-05T07:09:17.890918Z",
     "iopub.status.busy": "2024-07-05T07:09:17.890447Z",
     "iopub.status.idle": "2024-07-05T07:09:18.963137Z",
     "shell.execute_reply": "2024-07-05T07:09:18.961536Z"
    },
    "papermill": {
     "duration": 1.091885,
     "end_time": "2024-07-05T07:09:18.965921",
     "exception": false,
     "start_time": "2024-07-05T07:09:17.874036",
     "status": "completed"
    },
    "tags": []
   },
   "outputs": [],
   "source": [
    "!head {path_data}/sample_submission.csv"
   ]
  },
  {
   "cell_type": "code",
   "execution_count": null,
   "id": "af73301f",
   "metadata": {
    "execution": {
     "iopub.execute_input": "2024-07-05T07:09:18.995208Z",
     "iopub.status.busy": "2024-07-05T07:09:18.994299Z",
     "iopub.status.idle": "2024-07-05T07:09:19.009990Z",
     "shell.execute_reply": "2024-07-05T07:09:19.008798Z"
    },
    "papermill": {
     "duration": 0.032917,
     "end_time": "2024-07-05T07:09:19.012212",
     "exception": false,
     "start_time": "2024-07-05T07:09:18.979295",
     "status": "completed"
    },
    "tags": []
   },
   "outputs": [],
   "source": [
    "def create_submit_message(model, val_score:float, n_splits:int, comment:T.Dict[str,T.Any]=None) -> str:\n",
    "    msg = f\"\"\"validation score ({n_splits=}): {val_score=}\n",
    "    \n",
    "    model: {model.__str__()}\"\"\"\n",
    "    \n",
    "    if comment is not None:\n",
    "        msg = f\"\"\"{msg}\n",
    "        \n",
    "        comment: {json.dumps(comment,indent=2)}\"\"\"\n",
    "        \n",
    "    return msg\n",
    "\n",
    "submit_message = create_submit_message(dummy_model, val_score, n_splits, comment={\"splitter\": splitter.__str__(), \"group_col\": settings.id_col_patient})\n",
    "logger.info(f\"{submit_message=}\")    "
   ]
  },
  {
   "cell_type": "code",
   "execution_count": null,
   "id": "63d5aa65",
   "metadata": {
    "execution": {
     "iopub.execute_input": "2024-07-05T07:09:19.041351Z",
     "iopub.status.busy": "2024-07-05T07:09:19.040942Z",
     "iopub.status.idle": "2024-07-05T07:09:19.049943Z",
     "shell.execute_reply": "2024-07-05T07:09:19.048814Z"
    },
    "papermill": {
     "duration": 0.026198,
     "end_time": "2024-07-05T07:09:19.052103",
     "exception": false,
     "start_time": "2024-07-05T07:09:19.025905",
     "status": "completed"
    },
    "tags": []
   },
   "outputs": [],
   "source": [
    "logger.info(\"Done!\")"
   ]
  }
 ],
 "metadata": {
  "kaggle": {
   "accelerator": "none",
   "dataSources": [
    {
     "databundleVersionId": 8940774,
     "sourceId": 63056,
     "sourceType": "competition"
    }
   ],
   "dockerImageVersionId": 30732,
   "isGpuEnabled": false,
   "isInternetEnabled": false,
   "language": "python",
   "sourceType": "notebook"
  },
  "kernelspec": {
   "display_name": "Python 3",
   "language": "python",
   "name": "python3"
  },
  "language_info": {
   "codemirror_mode": {
    "name": "ipython",
    "version": 3
   },
   "file_extension": ".py",
   "mimetype": "text/x-python",
   "name": "python",
   "nbconvert_exporter": "python",
   "pygments_lexer": "ipython3",
   "version": "3.10.13"
  },
  "papermill": {
   "default_parameters": {},
   "duration": 80.610893,
   "end_time": "2024-07-05T07:09:19.788157",
   "environment_variables": {},
   "exception": null,
   "input_path": "__notebook__.ipynb",
   "output_path": "__notebook__.ipynb",
   "parameters": {},
   "start_time": "2024-07-05T07:07:59.177264",
   "version": "2.5.0"
  }
 },
 "nbformat": 4,
 "nbformat_minor": 5
}
